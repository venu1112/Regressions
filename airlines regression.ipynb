{
 "cells": [
  {
   "cell_type": "code",
   "execution_count": 2,
   "metadata": {},
   "outputs": [
    {
     "data": {
      "text/html": [
       "<div>\n",
       "<style scoped>\n",
       "    .dataframe tbody tr th:only-of-type {\n",
       "        vertical-align: middle;\n",
       "    }\n",
       "\n",
       "    .dataframe tbody tr th {\n",
       "        vertical-align: top;\n",
       "    }\n",
       "\n",
       "    .dataframe thead th {\n",
       "        text-align: right;\n",
       "    }\n",
       "</style>\n",
       "<table border=\"1\" class=\"dataframe\">\n",
       "  <thead>\n",
       "    <tr style=\"text-align: right;\">\n",
       "      <th></th>\n",
       "      <th>YEAR</th>\n",
       "      <th>MONTH</th>\n",
       "      <th>QUARTER</th>\n",
       "      <th>AIRLINE NAME</th>\n",
       "      <th>CARRIER TYPE</th>\n",
       "      <th>PASSENGERS TO INDIA</th>\n",
       "      <th>PASSENGERS FROM INDIA</th>\n",
       "      <th>FREIGHT TO INDIA</th>\n",
       "      <th>FREIGHT FROM INDIA</th>\n",
       "    </tr>\n",
       "  </thead>\n",
       "  <tbody>\n",
       "    <tr>\n",
       "      <th>0</th>\n",
       "      <td>2015</td>\n",
       "      <td>JAN</td>\n",
       "      <td>Q1</td>\n",
       "      <td>AIR INDIA</td>\n",
       "      <td>DOMESTIC</td>\n",
       "      <td>258876.0</td>\n",
       "      <td>274220</td>\n",
       "      <td>3320.626</td>\n",
       "      <td>4186.302</td>\n",
       "    </tr>\n",
       "    <tr>\n",
       "      <th>1</th>\n",
       "      <td>2015</td>\n",
       "      <td>JAN</td>\n",
       "      <td>Q1</td>\n",
       "      <td>AIR INDIA EXPRESS</td>\n",
       "      <td>DOMESTIC</td>\n",
       "      <td>95581.0</td>\n",
       "      <td>116600</td>\n",
       "      <td>0.000</td>\n",
       "      <td>0.000</td>\n",
       "    </tr>\n",
       "    <tr>\n",
       "      <th>2</th>\n",
       "      <td>2015</td>\n",
       "      <td>JAN</td>\n",
       "      <td>Q1</td>\n",
       "      <td>INDIGO</td>\n",
       "      <td>DOMESTIC</td>\n",
       "      <td>68112.0</td>\n",
       "      <td>74212</td>\n",
       "      <td>320.000</td>\n",
       "      <td>1812.000</td>\n",
       "    </tr>\n",
       "    <tr>\n",
       "      <th>3</th>\n",
       "      <td>2015</td>\n",
       "      <td>JAN</td>\n",
       "      <td>Q1</td>\n",
       "      <td>JET AIRWAYS</td>\n",
       "      <td>DOMESTIC</td>\n",
       "      <td>320853.0</td>\n",
       "      <td>332116</td>\n",
       "      <td>4173.874</td>\n",
       "      <td>5383.515</td>\n",
       "    </tr>\n",
       "    <tr>\n",
       "      <th>4</th>\n",
       "      <td>2015</td>\n",
       "      <td>JAN</td>\n",
       "      <td>Q1</td>\n",
       "      <td>SPICEJET</td>\n",
       "      <td>DOMESTIC</td>\n",
       "      <td>37882.0</td>\n",
       "      <td>42468</td>\n",
       "      <td>0.000</td>\n",
       "      <td>115.680</td>\n",
       "    </tr>\n",
       "  </tbody>\n",
       "</table>\n",
       "</div>"
      ],
      "text/plain": [
       "   YEAR MONTH QUARTER       AIRLINE NAME CARRIER TYPE  PASSENGERS TO INDIA  \\\n",
       "0  2015   JAN      Q1          AIR INDIA     DOMESTIC             258876.0   \n",
       "1  2015   JAN      Q1  AIR INDIA EXPRESS     DOMESTIC              95581.0   \n",
       "2  2015   JAN      Q1             INDIGO     DOMESTIC              68112.0   \n",
       "3  2015   JAN      Q1        JET AIRWAYS     DOMESTIC             320853.0   \n",
       "4  2015   JAN      Q1           SPICEJET     DOMESTIC              37882.0   \n",
       "\n",
       "   PASSENGERS FROM INDIA  FREIGHT TO INDIA  FREIGHT FROM INDIA  \n",
       "0                 274220          3320.626            4186.302  \n",
       "1                 116600             0.000               0.000  \n",
       "2                  74212           320.000            1812.000  \n",
       "3                 332116          4173.874            5383.515  \n",
       "4                  42468             0.000             115.680  "
      ]
     },
     "execution_count": 2,
     "metadata": {},
     "output_type": "execute_result"
    }
   ],
   "source": [
    "#libreries and reading data\n",
    "import pandas as pd\n",
    "import numpy as np\n",
    "import matplotlib.pyplot as plt\n",
    "a=pd.read_csv('C:/Users/DELL/Desktop/ML/assignments/Airlinewise Monthly International Air Traffic To And From The Indian Territory.csv')\n",
    "a.head()"
   ]
  },
  {
   "cell_type": "code",
   "execution_count": 3,
   "metadata": {},
   "outputs": [
    {
     "data": {
      "text/plain": [
       "YEAR                     0\n",
       "MONTH                    0\n",
       "QUARTER                  0\n",
       "AIRLINE NAME             0\n",
       "CARRIER TYPE             0\n",
       "PASSENGERS TO INDIA      1\n",
       "PASSENGERS FROM INDIA    0\n",
       "FREIGHT TO INDIA         0\n",
       "FREIGHT FROM INDIA       0\n",
       "dtype: int64"
      ]
     },
     "execution_count": 3,
     "metadata": {},
     "output_type": "execute_result"
    }
   ],
   "source": [
    "#checking null values\n",
    "a.isnull().sum()"
   ]
  },
  {
   "cell_type": "code",
   "execution_count": 4,
   "metadata": {},
   "outputs": [
    {
     "data": {
      "text/plain": [
       "(2334, 9)"
      ]
     },
     "execution_count": 4,
     "metadata": {},
     "output_type": "execute_result"
    }
   ],
   "source": [
    "a.shape"
   ]
  },
  {
   "cell_type": "code",
   "execution_count": 5,
   "metadata": {},
   "outputs": [
    {
     "data": {
      "text/plain": [
       "(2333, 9)"
      ]
     },
     "execution_count": 5,
     "metadata": {},
     "output_type": "execute_result"
    }
   ],
   "source": [
    "#removing null values\n",
    "airlines=a.dropna(how='any')\n",
    "airlines.shape"
   ]
  },
  {
   "cell_type": "code",
   "execution_count": 6,
   "metadata": {},
   "outputs": [
    {
     "data": {
      "text/plain": [
       "YEAR                     0\n",
       "MONTH                    0\n",
       "QUARTER                  0\n",
       "AIRLINE NAME             0\n",
       "CARRIER TYPE             0\n",
       "PASSENGERS TO INDIA      0\n",
       "PASSENGERS FROM INDIA    0\n",
       "FREIGHT TO INDIA         0\n",
       "FREIGHT FROM INDIA       0\n",
       "dtype: int64"
      ]
     },
     "execution_count": 6,
     "metadata": {},
     "output_type": "execute_result"
    }
   ],
   "source": [
    "airlines.isnull().sum()"
   ]
  },
  {
   "cell_type": "code",
   "execution_count": 7,
   "metadata": {},
   "outputs": [
    {
     "data": {
      "text/html": [
       "<div>\n",
       "<style scoped>\n",
       "    .dataframe tbody tr th:only-of-type {\n",
       "        vertical-align: middle;\n",
       "    }\n",
       "\n",
       "    .dataframe tbody tr th {\n",
       "        vertical-align: top;\n",
       "    }\n",
       "\n",
       "    .dataframe thead th {\n",
       "        text-align: right;\n",
       "    }\n",
       "</style>\n",
       "<table border=\"1\" class=\"dataframe\">\n",
       "  <thead>\n",
       "    <tr style=\"text-align: right;\">\n",
       "      <th></th>\n",
       "      <th>YEAR</th>\n",
       "      <th>PASSENGERS TO INDIA</th>\n",
       "      <th>PASSENGERS FROM INDIA</th>\n",
       "      <th>FREIGHT TO INDIA</th>\n",
       "      <th>FREIGHT FROM INDIA</th>\n",
       "    </tr>\n",
       "  </thead>\n",
       "  <tbody>\n",
       "    <tr>\n",
       "      <th>count</th>\n",
       "      <td>2333.000000</td>\n",
       "      <td>2333.000000</td>\n",
       "      <td>2333.000000</td>\n",
       "      <td>2333.000000</td>\n",
       "      <td>2333.000000</td>\n",
       "    </tr>\n",
       "    <tr>\n",
       "      <th>mean</th>\n",
       "      <td>2015.699100</td>\n",
       "      <td>24476.482212</td>\n",
       "      <td>25460.524218</td>\n",
       "      <td>551.081600</td>\n",
       "      <td>865.458087</td>\n",
       "    </tr>\n",
       "    <tr>\n",
       "      <th>std</th>\n",
       "      <td>0.674444</td>\n",
       "      <td>51146.213682</td>\n",
       "      <td>52484.234892</td>\n",
       "      <td>1282.152921</td>\n",
       "      <td>2151.665462</td>\n",
       "    </tr>\n",
       "    <tr>\n",
       "      <th>min</th>\n",
       "      <td>2015.000000</td>\n",
       "      <td>0.000000</td>\n",
       "      <td>0.000000</td>\n",
       "      <td>0.000000</td>\n",
       "      <td>0.000000</td>\n",
       "    </tr>\n",
       "    <tr>\n",
       "      <th>25%</th>\n",
       "      <td>2015.000000</td>\n",
       "      <td>1488.000000</td>\n",
       "      <td>1629.000000</td>\n",
       "      <td>0.300000</td>\n",
       "      <td>8.500000</td>\n",
       "    </tr>\n",
       "    <tr>\n",
       "      <th>50%</th>\n",
       "      <td>2016.000000</td>\n",
       "      <td>4960.000000</td>\n",
       "      <td>5256.000000</td>\n",
       "      <td>53.800000</td>\n",
       "      <td>154.050000</td>\n",
       "    </tr>\n",
       "    <tr>\n",
       "      <th>75%</th>\n",
       "      <td>2016.000000</td>\n",
       "      <td>23290.000000</td>\n",
       "      <td>23420.000000</td>\n",
       "      <td>311.600000</td>\n",
       "      <td>770.400000</td>\n",
       "    </tr>\n",
       "    <tr>\n",
       "      <th>max</th>\n",
       "      <td>2017.000000</td>\n",
       "      <td>402497.000000</td>\n",
       "      <td>400155.000000</td>\n",
       "      <td>14916.471000</td>\n",
       "      <td>48640.298000</td>\n",
       "    </tr>\n",
       "  </tbody>\n",
       "</table>\n",
       "</div>"
      ],
      "text/plain": [
       "              YEAR  PASSENGERS TO INDIA  PASSENGERS FROM INDIA  \\\n",
       "count  2333.000000          2333.000000            2333.000000   \n",
       "mean   2015.699100         24476.482212           25460.524218   \n",
       "std       0.674444         51146.213682           52484.234892   \n",
       "min    2015.000000             0.000000               0.000000   \n",
       "25%    2015.000000          1488.000000            1629.000000   \n",
       "50%    2016.000000          4960.000000            5256.000000   \n",
       "75%    2016.000000         23290.000000           23420.000000   \n",
       "max    2017.000000        402497.000000          400155.000000   \n",
       "\n",
       "       FREIGHT TO INDIA  FREIGHT FROM INDIA  \n",
       "count       2333.000000         2333.000000  \n",
       "mean         551.081600          865.458087  \n",
       "std         1282.152921         2151.665462  \n",
       "min            0.000000            0.000000  \n",
       "25%            0.300000            8.500000  \n",
       "50%           53.800000          154.050000  \n",
       "75%          311.600000          770.400000  \n",
       "max        14916.471000        48640.298000  "
      ]
     },
     "execution_count": 7,
     "metadata": {},
     "output_type": "execute_result"
    }
   ],
   "source": [
    "airlines.describe()"
   ]
  },
  {
   "cell_type": "code",
   "execution_count": 8,
   "metadata": {},
   "outputs": [
    {
     "data": {
      "text/plain": [
       "<matplotlib.axes._subplots.AxesSubplot at 0x269a8c6beb8>"
      ]
     },
     "execution_count": 8,
     "metadata": {},
     "output_type": "execute_result"
    },
    {
     "data": {
      "image/png": "[encoded data removed]",
      "text/plain": [
       "<Figure size 432x288 with 1 Axes>"
      ]
     },
     "metadata": {
      "needs_background": "light"
     },
     "output_type": "display_data"
    }
   ],
   "source": [
    "#exploratory data analytics\n",
    "import seaborn as sns\n",
    "sns.boxplot(x='CARRIER TYPE',y='FREIGHT FROM INDIA',data=airlines)"
   ]
  },
  {
   "cell_type": "code",
   "execution_count": 9,
   "metadata": {},
   "outputs": [
    {
     "data": {
      "text/plain": [
       "<matplotlib.axes._subplots.AxesSubplot at 0x269a9048940>"
      ]
     },
     "execution_count": 9,
     "metadata": {},
     "output_type": "execute_result"
    },
    {
     "data": {
      "image/png": "[encoded data removed]",
      "text/plain": [
       "<Figure size 432x288 with 1 Axes>"
      ]
     },
     "metadata": {
      "needs_background": "light"
     },
     "output_type": "display_data"
    }
   ],
   "source": [
    "sns.boxplot(x='CARRIER TYPE',y='FREIGHT TO INDIA',data=airlines)"
   ]
  },
  {
   "cell_type": "code",
   "execution_count": 10,
   "metadata": {},
   "outputs": [
    {
     "data": {
      "text/plain": [
       "YEAR                       int64\n",
       "MONTH                     object\n",
       "QUARTER                   object\n",
       "AIRLINE NAME              object\n",
       "CARRIER TYPE              object\n",
       "PASSENGERS TO INDIA      float64\n",
       "PASSENGERS FROM INDIA      int64\n",
       "FREIGHT TO INDIA         float64\n",
       "FREIGHT FROM INDIA       float64\n",
       "dtype: object"
      ]
     },
     "execution_count": 10,
     "metadata": {},
     "output_type": "execute_result"
    }
   ],
   "source": [
    "airlines.dtypes"
   ]
  },
  {
   "cell_type": "code",
   "execution_count": 11,
   "metadata": {},
   "outputs": [
    {
     "name": "stderr",
     "output_type": "stream",
     "text": [
      "C:\\ProgramData\\Anaconda3\\lib\\site-packages\\ipykernel_launcher.py:3: SettingWithCopyWarning: \n",
      "A value is trying to be set on a copy of a slice from a DataFrame.\n",
      "Try using .loc[row_indexer,col_indexer] = value instead\n",
      "\n",
      "See the caveats in the documentation: http://pandas.pydata.org/pandas-docs/stable/indexing.html#indexing-view-versus-copy\n",
      "  This is separate from the ipykernel package so we can avoid doing imports until\n"
     ]
    },
    {
     "data": {
      "text/plain": [
       "array([0, 1], dtype=int64)"
      ]
     },
     "execution_count": 11,
     "metadata": {},
     "output_type": "execute_result"
    }
   ],
   "source": [
    "from sklearn.preprocessing import LabelEncoder\n",
    "lbl=LabelEncoder()\n",
    "airlines['CARRIER TYPE']=lbl.fit_transform(airlines['CARRIER TYPE'])\n",
    "airlines['CARRIER TYPE'].unique()"
   ]
  },
  {
   "cell_type": "code",
   "execution_count": 12,
   "metadata": {},
   "outputs": [
    {
     "name": "stderr",
     "output_type": "stream",
     "text": [
      "C:\\ProgramData\\Anaconda3\\lib\\site-packages\\ipykernel_launcher.py:1: SettingWithCopyWarning: \n",
      "A value is trying to be set on a copy of a slice from a DataFrame.\n",
      "Try using .loc[row_indexer,col_indexer] = value instead\n",
      "\n",
      "See the caveats in the documentation: http://pandas.pydata.org/pandas-docs/stable/indexing.html#indexing-view-versus-copy\n",
      "  \"\"\"Entry point for launching an IPython kernel.\n"
     ]
    },
    {
     "data": {
      "text/plain": [
       "array([10, 11, 45, 50, 81,  0,  1,  2,  3,  6,  8,  9, 12, 13,  5, 14, 15,\n",
       "       16, 17, 18, 19, 20, 21, 22, 25, 27, 28, 29, 30, 31, 32, 33, 34, 35,\n",
       "       36, 37, 38, 39, 40, 41, 42, 44, 46, 47, 48, 49, 51, 52, 53, 54, 55,\n",
       "       56, 57, 58, 59, 60, 61, 63, 64, 65, 67, 68, 69, 71, 73, 74, 78, 79,\n",
       "       80, 82, 83, 84, 86, 89, 90, 91, 92, 93, 94, 95, 97, 98, 99, 85,  7,\n",
       "       70, 75, 77, 88,  4, 24, 26, 76, 62, 66, 72, 87, 23, 43, 96],\n",
       "      dtype=int64)"
      ]
     },
     "execution_count": 12,
     "metadata": {},
     "output_type": "execute_result"
    }
   ],
   "source": [
    "airlines['AIRLINE NAME']=lbl.fit_transform(airlines['AIRLINE NAME'])\n",
    "airlines['AIRLINE NAME'].unique()"
   ]
  },
  {
   "cell_type": "code",
   "execution_count": 13,
   "metadata": {},
   "outputs": [
    {
     "name": "stderr",
     "output_type": "stream",
     "text": [
      "C:\\ProgramData\\Anaconda3\\lib\\site-packages\\ipykernel_launcher.py:1: SettingWithCopyWarning: \n",
      "A value is trying to be set on a copy of a slice from a DataFrame.\n",
      "Try using .loc[row_indexer,col_indexer] = value instead\n",
      "\n",
      "See the caveats in the documentation: http://pandas.pydata.org/pandas-docs/stable/indexing.html#indexing-view-versus-copy\n",
      "  \"\"\"Entry point for launching an IPython kernel.\n"
     ]
    },
    {
     "data": {
      "text/plain": [
       "array([0, 1, 2, 3], dtype=int64)"
      ]
     },
     "execution_count": 13,
     "metadata": {},
     "output_type": "execute_result"
    }
   ],
   "source": [
    "airlines['QUARTER']=lbl.fit_transform(airlines['QUARTER'])\n",
    "airlines['QUARTER'].unique()"
   ]
  },
  {
   "cell_type": "code",
   "execution_count": 14,
   "metadata": {},
   "outputs": [
    {
     "data": {
      "text/html": [
       "<div>\n",
       "<style scoped>\n",
       "    .dataframe tbody tr th:only-of-type {\n",
       "        vertical-align: middle;\n",
       "    }\n",
       "\n",
       "    .dataframe tbody tr th {\n",
       "        vertical-align: top;\n",
       "    }\n",
       "\n",
       "    .dataframe thead th {\n",
       "        text-align: right;\n",
       "    }\n",
       "</style>\n",
       "<table border=\"1\" class=\"dataframe\">\n",
       "  <thead>\n",
       "    <tr style=\"text-align: right;\">\n",
       "      <th></th>\n",
       "      <th>YEAR</th>\n",
       "      <th>MONTH</th>\n",
       "      <th>QUARTER</th>\n",
       "      <th>AIRLINE NAME</th>\n",
       "      <th>CARRIER TYPE</th>\n",
       "      <th>PASSENGERS TO INDIA</th>\n",
       "      <th>PASSENGERS FROM INDIA</th>\n",
       "      <th>FREIGHT TO INDIA</th>\n",
       "      <th>FREIGHT FROM INDIA</th>\n",
       "    </tr>\n",
       "  </thead>\n",
       "  <tbody>\n",
       "    <tr>\n",
       "      <th>0</th>\n",
       "      <td>2015</td>\n",
       "      <td>JAN</td>\n",
       "      <td>0</td>\n",
       "      <td>10</td>\n",
       "      <td>0</td>\n",
       "      <td>258876.0</td>\n",
       "      <td>274220</td>\n",
       "      <td>3320.626</td>\n",
       "      <td>4186.302</td>\n",
       "    </tr>\n",
       "    <tr>\n",
       "      <th>1</th>\n",
       "      <td>2015</td>\n",
       "      <td>JAN</td>\n",
       "      <td>0</td>\n",
       "      <td>11</td>\n",
       "      <td>0</td>\n",
       "      <td>95581.0</td>\n",
       "      <td>116600</td>\n",
       "      <td>0.000</td>\n",
       "      <td>0.000</td>\n",
       "    </tr>\n",
       "    <tr>\n",
       "      <th>2</th>\n",
       "      <td>2015</td>\n",
       "      <td>JAN</td>\n",
       "      <td>0</td>\n",
       "      <td>45</td>\n",
       "      <td>0</td>\n",
       "      <td>68112.0</td>\n",
       "      <td>74212</td>\n",
       "      <td>320.000</td>\n",
       "      <td>1812.000</td>\n",
       "    </tr>\n",
       "    <tr>\n",
       "      <th>3</th>\n",
       "      <td>2015</td>\n",
       "      <td>JAN</td>\n",
       "      <td>0</td>\n",
       "      <td>50</td>\n",
       "      <td>0</td>\n",
       "      <td>320853.0</td>\n",
       "      <td>332116</td>\n",
       "      <td>4173.874</td>\n",
       "      <td>5383.515</td>\n",
       "    </tr>\n",
       "    <tr>\n",
       "      <th>4</th>\n",
       "      <td>2015</td>\n",
       "      <td>JAN</td>\n",
       "      <td>0</td>\n",
       "      <td>81</td>\n",
       "      <td>0</td>\n",
       "      <td>37882.0</td>\n",
       "      <td>42468</td>\n",
       "      <td>0.000</td>\n",
       "      <td>115.680</td>\n",
       "    </tr>\n",
       "  </tbody>\n",
       "</table>\n",
       "</div>"
      ],
      "text/plain": [
       "   YEAR MONTH  QUARTER  AIRLINE NAME  CARRIER TYPE  PASSENGERS TO INDIA  \\\n",
       "0  2015   JAN        0            10             0             258876.0   \n",
       "1  2015   JAN        0            11             0              95581.0   \n",
       "2  2015   JAN        0            45             0              68112.0   \n",
       "3  2015   JAN        0            50             0             320853.0   \n",
       "4  2015   JAN        0            81             0              37882.0   \n",
       "\n",
       "   PASSENGERS FROM INDIA  FREIGHT TO INDIA  FREIGHT FROM INDIA  \n",
       "0                 274220          3320.626            4186.302  \n",
       "1                 116600             0.000               0.000  \n",
       "2                  74212           320.000            1812.000  \n",
       "3                 332116          4173.874            5383.515  \n",
       "4                  42468             0.000             115.680  "
      ]
     },
     "execution_count": 14,
     "metadata": {},
     "output_type": "execute_result"
    }
   ],
   "source": [
    "airlines.head()"
   ]
  },
  {
   "cell_type": "code",
   "execution_count": 15,
   "metadata": {},
   "outputs": [
    {
     "data": {
      "text/plain": [
       "<matplotlib.axes._subplots.AxesSubplot at 0x269a90c84a8>"
      ]
     },
     "execution_count": 15,
     "metadata": {},
     "output_type": "execute_result"
    },
    {
     "data": {
      "image/png": "[encoded data removed]",
      "text/plain": [
       "<Figure size 432x288 with 2 Axes>"
      ]
     },
     "metadata": {
      "needs_background": "light"
     },
     "output_type": "display_data"
    }
   ],
   "source": [
    "#relation between the features\n",
    "import seaborn as sns\n",
    "corr=airlines.corr()\n",
    "cmap = sns.diverging_palette(220, 10, as_cmap=True)\n",
    "sns.heatmap(corr, annot=True, linewidths=1.7, linecolor='white')"
   ]
  },
  {
   "cell_type": "code",
   "execution_count": 16,
   "metadata": {},
   "outputs": [
    {
     "data": {
      "text/html": [
       "<div>\n",
       "<style scoped>\n",
       "    .dataframe tbody tr th:only-of-type {\n",
       "        vertical-align: middle;\n",
       "    }\n",
       "\n",
       "    .dataframe tbody tr th {\n",
       "        vertical-align: top;\n",
       "    }\n",
       "\n",
       "    .dataframe thead th {\n",
       "        text-align: right;\n",
       "    }\n",
       "</style>\n",
       "<table border=\"1\" class=\"dataframe\">\n",
       "  <thead>\n",
       "    <tr style=\"text-align: right;\">\n",
       "      <th></th>\n",
       "      <th>YEAR</th>\n",
       "      <th>QUARTER</th>\n",
       "      <th>AIRLINE NAME</th>\n",
       "      <th>CARRIER TYPE</th>\n",
       "      <th>PASSENGERS TO INDIA</th>\n",
       "      <th>PASSENGERS FROM INDIA</th>\n",
       "      <th>FREIGHT TO INDIA</th>\n",
       "      <th>FREIGHT FROM INDIA</th>\n",
       "    </tr>\n",
       "  </thead>\n",
       "  <tbody>\n",
       "    <tr>\n",
       "      <th>YEAR</th>\n",
       "      <td>1.000000</td>\n",
       "      <td>-0.303501</td>\n",
       "      <td>0.013544</td>\n",
       "      <td>0.011920</td>\n",
       "      <td>0.002227</td>\n",
       "      <td>0.005318</td>\n",
       "      <td>-0.009549</td>\n",
       "      <td>-0.012316</td>\n",
       "    </tr>\n",
       "    <tr>\n",
       "      <th>QUARTER</th>\n",
       "      <td>-0.303501</td>\n",
       "      <td>1.000000</td>\n",
       "      <td>0.003541</td>\n",
       "      <td>-0.000243</td>\n",
       "      <td>0.012331</td>\n",
       "      <td>-0.013482</td>\n",
       "      <td>0.014496</td>\n",
       "      <td>0.007817</td>\n",
       "    </tr>\n",
       "    <tr>\n",
       "      <th>AIRLINE NAME</th>\n",
       "      <td>0.013544</td>\n",
       "      <td>0.003541</td>\n",
       "      <td>1.000000</td>\n",
       "      <td>0.075833</td>\n",
       "      <td>-0.066511</td>\n",
       "      <td>-0.067950</td>\n",
       "      <td>0.000524</td>\n",
       "      <td>-0.012270</td>\n",
       "    </tr>\n",
       "    <tr>\n",
       "      <th>CARRIER TYPE</th>\n",
       "      <td>0.011920</td>\n",
       "      <td>-0.000243</td>\n",
       "      <td>0.075833</td>\n",
       "      <td>1.000000</td>\n",
       "      <td>-0.646233</td>\n",
       "      <td>-0.651711</td>\n",
       "      <td>-0.214467</td>\n",
       "      <td>-0.203389</td>\n",
       "    </tr>\n",
       "    <tr>\n",
       "      <th>PASSENGERS TO INDIA</th>\n",
       "      <td>0.002227</td>\n",
       "      <td>0.012331</td>\n",
       "      <td>-0.066511</td>\n",
       "      <td>-0.646233</td>\n",
       "      <td>1.000000</td>\n",
       "      <td>0.987037</td>\n",
       "      <td>0.639220</td>\n",
       "      <td>0.696511</td>\n",
       "    </tr>\n",
       "    <tr>\n",
       "      <th>PASSENGERS FROM INDIA</th>\n",
       "      <td>0.005318</td>\n",
       "      <td>-0.013482</td>\n",
       "      <td>-0.067950</td>\n",
       "      <td>-0.651711</td>\n",
       "      <td>0.987037</td>\n",
       "      <td>1.000000</td>\n",
       "      <td>0.638510</td>\n",
       "      <td>0.696413</td>\n",
       "    </tr>\n",
       "    <tr>\n",
       "      <th>FREIGHT TO INDIA</th>\n",
       "      <td>-0.009549</td>\n",
       "      <td>0.014496</td>\n",
       "      <td>0.000524</td>\n",
       "      <td>-0.214467</td>\n",
       "      <td>0.639220</td>\n",
       "      <td>0.638510</td>\n",
       "      <td>1.000000</td>\n",
       "      <td>0.757914</td>\n",
       "    </tr>\n",
       "    <tr>\n",
       "      <th>FREIGHT FROM INDIA</th>\n",
       "      <td>-0.012316</td>\n",
       "      <td>0.007817</td>\n",
       "      <td>-0.012270</td>\n",
       "      <td>-0.203389</td>\n",
       "      <td>0.696511</td>\n",
       "      <td>0.696413</td>\n",
       "      <td>0.757914</td>\n",
       "      <td>1.000000</td>\n",
       "    </tr>\n",
       "  </tbody>\n",
       "</table>\n",
       "</div>"
      ],
      "text/plain": [
       "                           YEAR   QUARTER  AIRLINE NAME  CARRIER TYPE  \\\n",
       "YEAR                   1.000000 -0.303501      0.013544      0.011920   \n",
       "QUARTER               -0.303501  1.000000      0.003541     -0.000243   \n",
       "AIRLINE NAME           0.013544  0.003541      1.000000      0.075833   \n",
       "CARRIER TYPE           0.011920 -0.000243      0.075833      1.000000   \n",
       "PASSENGERS TO INDIA    0.002227  0.012331     -0.066511     -0.646233   \n",
       "PASSENGERS FROM INDIA  0.005318 -0.013482     -0.067950     -0.651711   \n",
       "FREIGHT TO INDIA      -0.009549  0.014496      0.000524     -0.214467   \n",
       "FREIGHT FROM INDIA    -0.012316  0.007817     -0.012270     -0.203389   \n",
       "\n",
       "                       PASSENGERS TO INDIA  PASSENGERS FROM INDIA  \\\n",
       "YEAR                              0.002227               0.005318   \n",
       "QUARTER                           0.012331              -0.013482   \n",
       "AIRLINE NAME                     -0.066511              -0.067950   \n",
       "CARRIER TYPE                     -0.646233              -0.651711   \n",
       "PASSENGERS TO INDIA               1.000000               0.987037   \n",
       "PASSENGERS FROM INDIA             0.987037               1.000000   \n",
       "FREIGHT TO INDIA                  0.639220               0.638510   \n",
       "FREIGHT FROM INDIA                0.696511               0.696413   \n",
       "\n",
       "                       FREIGHT TO INDIA  FREIGHT FROM INDIA  \n",
       "YEAR                          -0.009549           -0.012316  \n",
       "QUARTER                        0.014496            0.007817  \n",
       "AIRLINE NAME                   0.000524           -0.012270  \n",
       "CARRIER TYPE                  -0.214467           -0.203389  \n",
       "PASSENGERS TO INDIA            0.639220            0.696511  \n",
       "PASSENGERS FROM INDIA          0.638510            0.696413  \n",
       "FREIGHT TO INDIA               1.000000            0.757914  \n",
       "FREIGHT FROM INDIA             0.757914            1.000000  "
      ]
     },
     "execution_count": 16,
     "metadata": {},
     "output_type": "execute_result"
    }
   ],
   "source": [
    "airlines.corr()"
   ]
  },
  {
   "cell_type": "code",
   "execution_count": 17,
   "metadata": {},
   "outputs": [
    {
     "data": {
      "text/html": [
       "<div>\n",
       "<style scoped>\n",
       "    .dataframe tbody tr th:only-of-type {\n",
       "        vertical-align: middle;\n",
       "    }\n",
       "\n",
       "    .dataframe tbody tr th {\n",
       "        vertical-align: top;\n",
       "    }\n",
       "\n",
       "    .dataframe thead th {\n",
       "        text-align: right;\n",
       "    }\n",
       "</style>\n",
       "<table border=\"1\" class=\"dataframe\">\n",
       "  <thead>\n",
       "    <tr style=\"text-align: right;\">\n",
       "      <th></th>\n",
       "      <th>QUARTER</th>\n",
       "      <th>AIRLINE NAME</th>\n",
       "      <th>CARRIER TYPE</th>\n",
       "      <th>PASSENGERS TO INDIA</th>\n",
       "      <th>PASSENGERS FROM INDIA</th>\n",
       "      <th>FREIGHT TO INDIA</th>\n",
       "      <th>FREIGHT FROM INDIA</th>\n",
       "    </tr>\n",
       "  </thead>\n",
       "  <tbody>\n",
       "    <tr>\n",
       "      <th>0</th>\n",
       "      <td>0</td>\n",
       "      <td>10</td>\n",
       "      <td>0</td>\n",
       "      <td>258876.0</td>\n",
       "      <td>274220</td>\n",
       "      <td>3320.626</td>\n",
       "      <td>4186.302</td>\n",
       "    </tr>\n",
       "    <tr>\n",
       "      <th>1</th>\n",
       "      <td>0</td>\n",
       "      <td>11</td>\n",
       "      <td>0</td>\n",
       "      <td>95581.0</td>\n",
       "      <td>116600</td>\n",
       "      <td>0.000</td>\n",
       "      <td>0.000</td>\n",
       "    </tr>\n",
       "    <tr>\n",
       "      <th>2</th>\n",
       "      <td>0</td>\n",
       "      <td>45</td>\n",
       "      <td>0</td>\n",
       "      <td>68112.0</td>\n",
       "      <td>74212</td>\n",
       "      <td>320.000</td>\n",
       "      <td>1812.000</td>\n",
       "    </tr>\n",
       "    <tr>\n",
       "      <th>3</th>\n",
       "      <td>0</td>\n",
       "      <td>50</td>\n",
       "      <td>0</td>\n",
       "      <td>320853.0</td>\n",
       "      <td>332116</td>\n",
       "      <td>4173.874</td>\n",
       "      <td>5383.515</td>\n",
       "    </tr>\n",
       "    <tr>\n",
       "      <th>4</th>\n",
       "      <td>0</td>\n",
       "      <td>81</td>\n",
       "      <td>0</td>\n",
       "      <td>37882.0</td>\n",
       "      <td>42468</td>\n",
       "      <td>0.000</td>\n",
       "      <td>115.680</td>\n",
       "    </tr>\n",
       "  </tbody>\n",
       "</table>\n",
       "</div>"
      ],
      "text/plain": [
       "   QUARTER  AIRLINE NAME  CARRIER TYPE  PASSENGERS TO INDIA  \\\n",
       "0        0            10             0             258876.0   \n",
       "1        0            11             0              95581.0   \n",
       "2        0            45             0              68112.0   \n",
       "3        0            50             0             320853.0   \n",
       "4        0            81             0              37882.0   \n",
       "\n",
       "   PASSENGERS FROM INDIA  FREIGHT TO INDIA  FREIGHT FROM INDIA  \n",
       "0                 274220          3320.626            4186.302  \n",
       "1                 116600             0.000               0.000  \n",
       "2                  74212           320.000            1812.000  \n",
       "3                 332116          4173.874            5383.515  \n",
       "4                  42468             0.000             115.680  "
      ]
     },
     "execution_count": 17,
     "metadata": {},
     "output_type": "execute_result"
    }
   ],
   "source": [
    "v=airlines.iloc[:,2:9]\n",
    "v.head()"
   ]
  },
  {
   "cell_type": "code",
   "execution_count": 18,
   "metadata": {},
   "outputs": [],
   "source": [
    "df=pd.DataFrame(v)"
   ]
  },
  {
   "cell_type": "code",
   "execution_count": 19,
   "metadata": {},
   "outputs": [
    {
     "data": {
      "text/html": [
       "<div>\n",
       "<style scoped>\n",
       "    .dataframe tbody tr th:only-of-type {\n",
       "        vertical-align: middle;\n",
       "    }\n",
       "\n",
       "    .dataframe tbody tr th {\n",
       "        vertical-align: top;\n",
       "    }\n",
       "\n",
       "    .dataframe thead th {\n",
       "        text-align: right;\n",
       "    }\n",
       "</style>\n",
       "<table border=\"1\" class=\"dataframe\">\n",
       "  <thead>\n",
       "    <tr style=\"text-align: right;\">\n",
       "      <th></th>\n",
       "      <th>QUARTER</th>\n",
       "      <th>AIRLINE NAME</th>\n",
       "      <th>CARRIER TYPE</th>\n",
       "      <th>PASSENGERS TO INDIA</th>\n",
       "      <th>PASSENGERS FROM INDIA</th>\n",
       "      <th>FREIGHT TO INDIA</th>\n",
       "      <th>FREIGHT FROM INDIA</th>\n",
       "    </tr>\n",
       "  </thead>\n",
       "  <tbody>\n",
       "    <tr>\n",
       "      <th>0</th>\n",
       "      <td>-1.144143</td>\n",
       "      <td>-1.317369</td>\n",
       "      <td>-4.034167</td>\n",
       "      <td>4.582930</td>\n",
       "      <td>4.739699</td>\n",
       "      <td>2.160073</td>\n",
       "      <td>1.543383</td>\n",
       "    </tr>\n",
       "    <tr>\n",
       "      <th>1</th>\n",
       "      <td>-1.144143</td>\n",
       "      <td>-1.282966</td>\n",
       "      <td>-4.034167</td>\n",
       "      <td>1.390221</td>\n",
       "      <td>1.736511</td>\n",
       "      <td>-0.429810</td>\n",
       "      <td>-0.402227</td>\n",
       "    </tr>\n",
       "    <tr>\n",
       "      <th>2</th>\n",
       "      <td>-1.144143</td>\n",
       "      <td>-0.113266</td>\n",
       "      <td>-4.034167</td>\n",
       "      <td>0.853152</td>\n",
       "      <td>0.928878</td>\n",
       "      <td>-0.180229</td>\n",
       "      <td>0.439911</td>\n",
       "    </tr>\n",
       "    <tr>\n",
       "      <th>3</th>\n",
       "      <td>-1.144143</td>\n",
       "      <td>0.058749</td>\n",
       "      <td>-4.034167</td>\n",
       "      <td>5.794691</td>\n",
       "      <td>5.842811</td>\n",
       "      <td>2.825554</td>\n",
       "      <td>2.099795</td>\n",
       "    </tr>\n",
       "    <tr>\n",
       "      <th>4</th>\n",
       "      <td>-1.144143</td>\n",
       "      <td>1.125240</td>\n",
       "      <td>-4.034167</td>\n",
       "      <td>0.262102</td>\n",
       "      <td>0.324049</td>\n",
       "      <td>-0.429810</td>\n",
       "      <td>-0.348464</td>\n",
       "    </tr>\n",
       "  </tbody>\n",
       "</table>\n",
       "</div>"
      ],
      "text/plain": [
       "    QUARTER  AIRLINE NAME  CARRIER TYPE  PASSENGERS TO INDIA  \\\n",
       "0 -1.144143     -1.317369     -4.034167             4.582930   \n",
       "1 -1.144143     -1.282966     -4.034167             1.390221   \n",
       "2 -1.144143     -0.113266     -4.034167             0.853152   \n",
       "3 -1.144143      0.058749     -4.034167             5.794691   \n",
       "4 -1.144143      1.125240     -4.034167             0.262102   \n",
       "\n",
       "   PASSENGERS FROM INDIA  FREIGHT TO INDIA  FREIGHT FROM INDIA  \n",
       "0               4.739699          2.160073            1.543383  \n",
       "1               1.736511         -0.429810           -0.402227  \n",
       "2               0.928878         -0.180229            0.439911  \n",
       "3               5.842811          2.825554            2.099795  \n",
       "4               0.324049         -0.429810           -0.348464  "
      ]
     },
     "execution_count": 19,
     "metadata": {},
     "output_type": "execute_result"
    }
   ],
   "source": [
    "b=(df-df.mean())/df.std()\n",
    "b.head()"
   ]
  },
  {
   "cell_type": "code",
   "execution_count": 20,
   "metadata": {},
   "outputs": [
    {
     "data": {
      "text/plain": [
       "array([[<matplotlib.axes._subplots.AxesSubplot object at 0x00000269A9171CC0>,\n",
       "        <matplotlib.axes._subplots.AxesSubplot object at 0x00000269A947FFD0>,\n",
       "        <matplotlib.axes._subplots.AxesSubplot object at 0x00000269A94AC588>],\n",
       "       [<matplotlib.axes._subplots.AxesSubplot object at 0x00000269A94D4B00>,\n",
       "        <matplotlib.axes._subplots.AxesSubplot object at 0x00000269A95050B8>,\n",
       "        <matplotlib.axes._subplots.AxesSubplot object at 0x00000269A952C5F8>],\n",
       "       [<matplotlib.axes._subplots.AxesSubplot object at 0x00000269A9554B70>,\n",
       "        <matplotlib.axes._subplots.AxesSubplot object at 0x00000269A9586160>,\n",
       "        <matplotlib.axes._subplots.AxesSubplot object at 0x00000269A9586198>]],\n",
       "      dtype=object)"
      ]
     },
     "execution_count": 20,
     "metadata": {},
     "output_type": "execute_result"
    },
    {
     "data": {
      "image/png": "[encoded data removed]",
      "text/plain": [
       "<Figure size 1080x1080 with 9 Axes>"
      ]
     },
     "metadata": {
      "needs_background": "light"
     },
     "output_type": "display_data"
    }
   ],
   "source": [
    "import seaborn as sns\n",
    "b.hist(bins=20,figsize=(15,15))"
   ]
  },
  {
   "cell_type": "code",
   "execution_count": 23,
   "metadata": {},
   "outputs": [
    {
     "data": {
      "text/plain": [
       "<matplotlib.axes._subplots.AxesSubplot at 0x269a97da240>"
      ]
     },
     "execution_count": 23,
     "metadata": {},
     "output_type": "execute_result"
    },
    {
     "data": {
      "image/png": "[encoded data removed]",
      "text/plain": [
       "<Figure size 432x288 with 1 Axes>"
      ]
     },
     "metadata": {
      "needs_background": "light"
     },
     "output_type": "display_data"
    }
   ],
   "source": [
    "sns.pointplot(data=b[['CARRIER TYPE','FREIGHT FROM INDIA','QUARTER']],x='QUARTER',y='FREIGHT FROM INDIA',hue='CARRIER TYPE')"
   ]
  },
  {
   "cell_type": "code",
   "execution_count": 24,
   "metadata": {},
   "outputs": [
    {
     "data": {
      "text/plain": [
       "<matplotlib.axes._subplots.AxesSubplot at 0x269a9826400>"
      ]
     },
     "execution_count": 24,
     "metadata": {},
     "output_type": "execute_result"
    },
    {
     "data": {
      "image/png": "[encoded data removed]",
      "text/plain": [
       "<Figure size 432x288 with 1 Axes>"
      ]
     },
     "metadata": {
      "needs_background": "light"
     },
     "output_type": "display_data"
    }
   ],
   "source": [
    "sns.pointplot(data=b[['CARRIER TYPE','FREIGHT TO INDIA','QUARTER']],x='QUARTER',y='FREIGHT TO INDIA',hue='CARRIER TYPE')"
   ]
  },
  {
   "cell_type": "code",
   "execution_count": 25,
   "metadata": {},
   "outputs": [],
   "source": [
    "#Linear reg\n",
    "x=b['PASSENGERS FROM INDIA']\n",
    "y=b['FREIGHT FROM INDIA']\n",
    "x=np.array(x).reshape(-1,1)\n",
    "y=np.array(y).reshape(-1,1)"
   ]
  },
  {
   "cell_type": "code",
   "execution_count": 26,
   "metadata": {},
   "outputs": [],
   "source": [
    "from sklearn.preprocessing import StandardScaler\n",
    "sc_x=StandardScaler()\n",
    "x=sc_x.fit_transform(x)\n",
    "y=sc_x.fit_transform(y)"
   ]
  },
  {
   "cell_type": "code",
   "execution_count": 27,
   "metadata": {},
   "outputs": [],
   "source": [
    "from sklearn.model_selection import train_test_split\n",
    "x_train,x_test,y_train,y_test=train_test_split(x,y,test_size=0.2,random_state=5)"
   ]
  },
  {
   "cell_type": "code",
   "execution_count": 28,
   "metadata": {},
   "outputs": [
    {
     "data": {
      "text/plain": [
       "LinearRegression(copy_X=True, fit_intercept=True, n_jobs=None,\n",
       "         normalize=False)"
      ]
     },
     "execution_count": 28,
     "metadata": {},
     "output_type": "execute_result"
    }
   ],
   "source": [
    "from sklearn.linear_model import LinearRegression\n",
    "reg=LinearRegression()\n",
    "reg.fit(x_train,y_train)"
   ]
  },
  {
   "cell_type": "code",
   "execution_count": 29,
   "metadata": {},
   "outputs": [],
   "source": [
    "y_pred=reg.predict(x_test)"
   ]
  },
  {
   "cell_type": "code",
   "execution_count": 30,
   "metadata": {},
   "outputs": [
    {
     "data": {
      "image/png": "[encoded data removed]",
      "text/plain": [
       "<Figure size 432x288 with 1 Axes>"
      ]
     },
     "metadata": {
      "needs_background": "light"
     },
     "output_type": "display_data"
    }
   ],
   "source": [
    "plt.scatter(x_train,y_train,color='red')\n",
    "plt.plot(x_train,reg.predict(x_train),color='blue')\n",
    "plt.title(\"pass from india vs freight from india \")\n",
    "plt.xlabel(\"PfI\")\n",
    "plt.ylabel(\"Pred FfI\")\n",
    "plt.show()"
   ]
  },
  {
   "cell_type": "code",
   "execution_count": 31,
   "metadata": {},
   "outputs": [
    {
     "data": {
      "text/plain": [
       "0.2870466094030318"
      ]
     },
     "execution_count": 31,
     "metadata": {},
     "output_type": "execute_result"
    }
   ],
   "source": [
    "#mean square error\n",
    "from sklearn.metrics import mean_squared_error,r2_score\n",
    "mean_squared_error(y_test,y_pred)"
   ]
  },
  {
   "cell_type": "code",
   "execution_count": 32,
   "metadata": {},
   "outputs": [
    {
     "data": {
      "text/plain": [
       "0.631872569323328"
      ]
     },
     "execution_count": 32,
     "metadata": {},
     "output_type": "execute_result"
    }
   ],
   "source": [
    "#r square\n",
    "r2_score(y_test,y_pred)"
   ]
  },
  {
   "cell_type": "code",
   "execution_count": 33,
   "metadata": {},
   "outputs": [],
   "source": [
    "#Mul Linear reg1\n",
    "x2=b.iloc[:,0:4]\n",
    "y2=b['FREIGHT TO INDIA']\n",
    "x2=np.array(x2).reshape(-1,4)\n",
    "y2=np.array(y2).reshape(-1,1)"
   ]
  },
  {
   "cell_type": "code",
   "execution_count": 34,
   "metadata": {},
   "outputs": [],
   "source": [
    "from sklearn.preprocessing import StandardScaler\n",
    "sc_x=StandardScaler()\n",
    "x2=sc_x.fit_transform(x2)\n",
    "y2=sc_x.fit_transform(y2)"
   ]
  },
  {
   "cell_type": "code",
   "execution_count": 35,
   "metadata": {},
   "outputs": [],
   "source": [
    "from sklearn.model_selection import train_test_split\n",
    "x2_train,x2_test,y2_train,y2_test=train_test_split(x2,y2,test_size=0.2,random_state=5)"
   ]
  },
  {
   "cell_type": "code",
   "execution_count": 36,
   "metadata": {},
   "outputs": [
    {
     "data": {
      "text/plain": [
       "LinearRegression(copy_X=True, fit_intercept=True, n_jobs=None,\n",
       "         normalize=False)"
      ]
     },
     "execution_count": 36,
     "metadata": {},
     "output_type": "execute_result"
    }
   ],
   "source": [
    "from sklearn.linear_model import LinearRegression\n",
    "reg=LinearRegression()\n",
    "reg.fit(x2_train,y2_train)"
   ]
  },
  {
   "cell_type": "code",
   "execution_count": 37,
   "metadata": {},
   "outputs": [],
   "source": [
    "y2_pred=reg.predict(x2_test)"
   ]
  },
  {
   "cell_type": "code",
   "execution_count": 38,
   "metadata": {},
   "outputs": [
    {
     "data": {
      "text/plain": [
       "0.39041720735572816"
      ]
     },
     "execution_count": 38,
     "metadata": {},
     "output_type": "execute_result"
    }
   ],
   "source": [
    "#mean squared error\n",
    "from sklearn.metrics import mean_squared_error,r2_score\n",
    "mean_squared_error(y2_test,y2_pred)"
   ]
  },
  {
   "cell_type": "code",
   "execution_count": 39,
   "metadata": {},
   "outputs": [
    {
     "data": {
      "text/plain": [
       "0.5391337554351656"
      ]
     },
     "execution_count": 39,
     "metadata": {},
     "output_type": "execute_result"
    }
   ],
   "source": [
    "#r square\n",
    "r2_score(y2_test,y2_pred)"
   ]
  },
  {
   "cell_type": "code",
   "execution_count": 40,
   "metadata": {},
   "outputs": [],
   "source": [
    "#Mul Linear reg2\n",
    "x3=b[['CARRIER TYPE','PASSENGERS FROM INDIA']]\n",
    "y3=b['FREIGHT FROM INDIA']\n",
    "x3=np.array(x3).reshape(-1,2)\n",
    "y3=np.array(y3).reshape(-1,1)"
   ]
  },
  {
   "cell_type": "code",
   "execution_count": 41,
   "metadata": {},
   "outputs": [],
   "source": [
    "from sklearn.preprocessing import StandardScaler\n",
    "sc_x=StandardScaler()\n",
    "x3=sc_x.fit_transform(x3)\n",
    "y3=sc_x.fit_transform(y3)"
   ]
  },
  {
   "cell_type": "code",
   "execution_count": 42,
   "metadata": {},
   "outputs": [],
   "source": [
    "from sklearn.model_selection import train_test_split\n",
    "x3_train,x3_test,y3_train,y3_test=train_test_split(x3,y3,test_size=0.2,random_state=5)"
   ]
  },
  {
   "cell_type": "code",
   "execution_count": 43,
   "metadata": {},
   "outputs": [
    {
     "data": {
      "text/plain": [
       "LinearRegression(copy_X=True, fit_intercept=True, n_jobs=None,\n",
       "         normalize=False)"
      ]
     },
     "execution_count": 43,
     "metadata": {},
     "output_type": "execute_result"
    }
   ],
   "source": [
    "from sklearn.linear_model import LinearRegression\n",
    "reg=LinearRegression()\n",
    "reg.fit(x3_train,y3_train)"
   ]
  },
  {
   "cell_type": "code",
   "execution_count": 44,
   "metadata": {},
   "outputs": [],
   "source": [
    "y3_pred=reg.predict(x3_test)"
   ]
  },
  {
   "cell_type": "code",
   "execution_count": 45,
   "metadata": {},
   "outputs": [
    {
     "data": {
      "text/plain": [
       "0.18323250069393274"
      ]
     },
     "execution_count": 45,
     "metadata": {},
     "output_type": "execute_result"
    }
   ],
   "source": [
    "from sklearn.metrics import mean_squared_error,r2_score\n",
    "mean_squared_error(y3_test,y3_pred)"
   ]
  },
  {
   "cell_type": "code",
   "execution_count": 46,
   "metadata": {},
   "outputs": [
    {
     "data": {
      "text/plain": [
       "0.765010602852268"
      ]
     },
     "execution_count": 46,
     "metadata": {},
     "output_type": "execute_result"
    }
   ],
   "source": [
    "r2_score(y3_test,y3_pred)"
   ]
  },
  {
   "cell_type": "code",
   "execution_count": 47,
   "metadata": {},
   "outputs": [],
   "source": [
    "#Mul Linear reg3\n",
    "x4=b[['CARRIER TYPE','PASSENGERS TO INDIA']]\n",
    "y4=b['FREIGHT TO INDIA']\n",
    "x4=np.array(x4).reshape(-1,2)\n",
    "y4=np.array(y4).reshape(-1,1)"
   ]
  },
  {
   "cell_type": "code",
   "execution_count": 48,
   "metadata": {},
   "outputs": [],
   "source": [
    "from sklearn.preprocessing import StandardScaler\n",
    "sc_x=StandardScaler()\n",
    "x4=sc_x.fit_transform(x4)\n",
    "y4=sc_x.fit_transform(y4)"
   ]
  },
  {
   "cell_type": "code",
   "execution_count": 49,
   "metadata": {},
   "outputs": [],
   "source": [
    "from sklearn.model_selection import train_test_split\n",
    "x4_train,x4_test,y4_train,y4_test=train_test_split(x4,y4,test_size=0.2,random_state=5)"
   ]
  },
  {
   "cell_type": "code",
   "execution_count": 50,
   "metadata": {},
   "outputs": [
    {
     "data": {
      "text/plain": [
       "LinearRegression(copy_X=True, fit_intercept=True, n_jobs=None,\n",
       "         normalize=False)"
      ]
     },
     "execution_count": 50,
     "metadata": {},
     "output_type": "execute_result"
    }
   ],
   "source": [
    "from sklearn.linear_model import LinearRegression\n",
    "reg=LinearRegression()\n",
    "reg.fit(x4_train,y4_train)"
   ]
  },
  {
   "cell_type": "code",
   "execution_count": 51,
   "metadata": {},
   "outputs": [],
   "source": [
    "y4_pred=reg.predict(x4_test)"
   ]
  },
  {
   "cell_type": "code",
   "execution_count": 52,
   "metadata": {},
   "outputs": [
    {
     "data": {
      "text/plain": [
       "0.39120385824151405"
      ]
     },
     "execution_count": 52,
     "metadata": {},
     "output_type": "execute_result"
    }
   ],
   "source": [
    "from sklearn.metrics import mean_squared_error,r2_score\n",
    "mean_squared_error(y4_test,y4_pred)"
   ]
  },
  {
   "cell_type": "code",
   "execution_count": 53,
   "metadata": {},
   "outputs": [
    {
     "data": {
      "text/plain": [
       "0.5382051569187958"
      ]
     },
     "execution_count": 53,
     "metadata": {},
     "output_type": "execute_result"
    }
   ],
   "source": [
    "r2_score(y4_test,y4_pred)"
   ]
  },
  {
   "cell_type": "code",
   "execution_count": 54,
   "metadata": {},
   "outputs": [],
   "source": [
    "#Mul Linear reg4\n",
    "x51=b[['QUARTER','AIRLINE NAME','CARRIER TYPE','PASSENGERS FROM INDIA']]\n",
    "y51=b['FREIGHT FROM INDIA']\n",
    "x5=np.array(x51).reshape(-1,4)\n",
    "y5=np.array(y51).reshape(-1,1)"
   ]
  },
  {
   "cell_type": "code",
   "execution_count": 55,
   "metadata": {},
   "outputs": [],
   "source": [
    "from sklearn.preprocessing import StandardScaler\n",
    "sc_x=StandardScaler()\n",
    "x5=sc_x.fit_transform(x5)\n",
    "y5=sc_x.fit_transform(y5)"
   ]
  },
  {
   "cell_type": "code",
   "execution_count": 56,
   "metadata": {},
   "outputs": [],
   "source": [
    "from sklearn.model_selection import train_test_split\n",
    "x5_train,x5_test,y5_train,y5_test=train_test_split(x5,y5,test_size=0.2,random_state=5)"
   ]
  },
  {
   "cell_type": "code",
   "execution_count": 57,
   "metadata": {},
   "outputs": [
    {
     "data": {
      "text/plain": [
       "LinearRegression(copy_X=True, fit_intercept=True, n_jobs=None,\n",
       "         normalize=False)"
      ]
     },
     "execution_count": 57,
     "metadata": {},
     "output_type": "execute_result"
    }
   ],
   "source": [
    "from sklearn.linear_model import LinearRegression\n",
    "reg=LinearRegression()\n",
    "reg.fit(x5_train,y5_train)"
   ]
  },
  {
   "cell_type": "code",
   "execution_count": 58,
   "metadata": {},
   "outputs": [],
   "source": [
    "y5_pred=reg.predict(x5_test)"
   ]
  },
  {
   "cell_type": "code",
   "execution_count": 59,
   "metadata": {},
   "outputs": [
    {
     "data": {
      "text/plain": [
       "0.1822741506291186"
      ]
     },
     "execution_count": 59,
     "metadata": {},
     "output_type": "execute_result"
    }
   ],
   "source": [
    "#mean squared error\n",
    "from sklearn.metrics import mean_squared_error,r2_score\n",
    "mean_squared_error(y5_test,y5_pred)"
   ]
  },
  {
   "cell_type": "code",
   "execution_count": 60,
   "metadata": {},
   "outputs": [
    {
     "data": {
      "text/plain": [
       "0.7662396539383705"
      ]
     },
     "execution_count": 60,
     "metadata": {},
     "output_type": "execute_result"
    }
   ],
   "source": [
    "# r square\n",
    "r2_score(y5_test,y5_pred)"
   ]
  },
  {
   "cell_type": "code",
   "execution_count": null,
   "metadata": {},
   "outputs": [],
   "source": []
  }
 ],
 "metadata": {
  "kernelspec": {
   "display_name": "Python 3",
   "language": "python",
   "name": "python3"
  },
  "language_info": {
   "codemirror_mode": {
    "name": "ipython",
    "version": 3
   },
   "file_extension": ".py",
   "mimetype": "text/x-python",
   "name": "python",
   "nbconvert_exporter": "python",
   "pygments_lexer": "ipython3",
   "version": "3.7.3"
  }
 },
 "nbformat": 4,
 "nbformat_minor": 2
}
